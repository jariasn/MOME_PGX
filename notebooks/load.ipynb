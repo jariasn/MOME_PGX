{
 "cells": [
  {
   "cell_type": "code",
   "execution_count": 1,
   "metadata": {},
   "outputs": [
    {
     "ename": "ModuleNotFoundError",
     "evalue": "No module named 'qdax'",
     "output_type": "error",
     "traceback": [
      "\u001b[0;31m---------------------------------------------------------------------------\u001b[0m",
      "\u001b[0;31mModuleNotFoundError\u001b[0m                       Traceback (most recent call last)",
      "\u001b[1;32m/home/coder/project/MOME_PGX/notebooks/load.ipynb Cell 1\u001b[0m line \u001b[0;36m4\n\u001b[1;32m      <a href='vscode-notebook-cell://research.constructor.tech/home/coder/project/MOME_PGX/notebooks/load.ipynb#W0sdnNjb2RlLXJlbW90ZQ%3D%3D?line=1'>2</a>\u001b[0m \u001b[39mimport\u001b[39;00m \u001b[39mjax\u001b[39;00m\u001b[39m.\u001b[39;00m\u001b[39mnumpy\u001b[39;00m \u001b[39mas\u001b[39;00m \u001b[39mjnp\u001b[39;00m\n\u001b[1;32m      <a href='vscode-notebook-cell://research.constructor.tech/home/coder/project/MOME_PGX/notebooks/load.ipynb#W0sdnNjb2RlLXJlbW90ZQ%3D%3D?line=2'>3</a>\u001b[0m \u001b[39mfrom\u001b[39;00m \u001b[39mjax\u001b[39;00m\u001b[39m.\u001b[39;00m\u001b[39mrandom\u001b[39;00m \u001b[39mimport\u001b[39;00m PRNGKey\n\u001b[0;32m----> <a href='vscode-notebook-cell://research.constructor.tech/home/coder/project/MOME_PGX/notebooks/load.ipynb#W0sdnNjb2RlLXJlbW90ZQ%3D%3D?line=3'>4</a>\u001b[0m \u001b[39mfrom\u001b[39;00m \u001b[39mqdax\u001b[39;00m\u001b[39m.\u001b[39;00m\u001b[39mcore\u001b[39;00m\u001b[39m.\u001b[39;00m\u001b[39mcontainers\u001b[39;00m\u001b[39m.\u001b[39;00m\u001b[39mmome_repertoire\u001b[39;00m \u001b[39mimport\u001b[39;00m MOMERepertoire\n\u001b[1;32m      <a href='vscode-notebook-cell://research.constructor.tech/home/coder/project/MOME_PGX/notebooks/load.ipynb#W0sdnNjb2RlLXJlbW90ZQ%3D%3D?line=4'>5</a>\u001b[0m \u001b[39mfrom\u001b[39;00m \u001b[39mqdax\u001b[39;00m \u001b[39mimport\u001b[39;00m environments\n\u001b[1;32m      <a href='vscode-notebook-cell://research.constructor.tech/home/coder/project/MOME_PGX/notebooks/load.ipynb#W0sdnNjb2RlLXJlbW90ZQ%3D%3D?line=5'>6</a>\u001b[0m \u001b[39mfrom\u001b[39;00m \u001b[39mqdax\u001b[39;00m\u001b[39m.\u001b[39;00m\u001b[39mcore\u001b[39;00m\u001b[39m.\u001b[39;00m\u001b[39mneuroevolution\u001b[39;00m\u001b[39m.\u001b[39;00m\u001b[39mnetworks\u001b[39;00m\u001b[39m.\u001b[39;00m\u001b[39mnetworks\u001b[39;00m \u001b[39mimport\u001b[39;00m MLP\n",
      "\u001b[0;31mModuleNotFoundError\u001b[0m: No module named 'qdax'"
     ]
    }
   ],
   "source": [
    "import jax\n",
    "import jax.numpy as jnp\n",
    "from jax.random import PRNGKey\n",
    "from qdax.core.containers.mome_repertoire import MOMERepertoire\n",
    "from qdax import environments\n",
    "from qdax.core.neuroevolution.networks.networks import MLP\n",
    "import os\n",
    "from typing import Tuple\n",
    "from qdax.types import RNGKey\n",
    "from IPython.display import HTML\n",
    "from brax.io import html\n",
    "from jax.flatten_util import ravel_pytree\n"
   ]
  },
  {
   "cell_type": "code",
   "execution_count": null,
   "metadata": {},
   "outputs": [],
   "source": [
    "policy_hidden_layer_sizes = (64, 64)\n",
    "episode_length = 1000\n",
    "env_name = \"kicker_multi\"\n",
    "fixed_init_state = False\n",
    "mutation_ga_batch_size = 256\n",
    "mutation_qpg_batch_size = 64\n",
    "num_objective_functions = 2\n",
    "num_centroids= 256 \n",
    "pareto_front_max_length = 50\n",
    "batch_size = mutation_ga_batch_size + mutation_qpg_batch_size * num_objective_functions\n",
    "\n",
    "env = environments.create(env_name, episode_length=episode_length, fixed_init_state=fixed_init_state)\n",
    "\n",
    "repertoire_path = \"/Users/joaquinarias/Downloads/kicker_vis/2024-05-10_193529_42/final/repertoire/\"\n",
    "num_save_visualisations = 1\n",
    "save_dir = \"/Users/joaquinarias/Documents/Thesis/Project/MOME_PGX/\"\n",
    "\n"
   ]
  },
  {
   "cell_type": "code",
   "execution_count": null,
   "metadata": {},
   "outputs": [],
   "source": [
    "random_key = jax.random.PRNGKey(42)\n",
    "random_key, subkey = jax.random.split(random_key)\n",
    "env = environments.create(env_name, episode_length=episode_length)\n",
    "policy_layer_sizes = policy_hidden_layer_sizes + (env.action_size,)\n",
    "policy_network = MLP(\n",
    "    layer_sizes=policy_layer_sizes,\n",
    "    kernel_init=jax.nn.initializers.lecun_uniform(),\n",
    "    final_activation=jnp.tanh,\n",
    ")\n",
    "random_key, subkey = jax.random.split(random_key)\n",
    "\n",
    "keys = jax.random.split(subkey, num=batch_size)\n",
    "fake_batch = jnp.zeros(shape=(batch_size, env.observation_size))\n",
    "init_genotypes = jax.vmap(policy_network.init)(keys, fake_batch)\n",
    "\n",
    "default_genotypes = jax.tree_util.tree_map(\n",
    "            lambda x: jnp.zeros(\n",
    "                shape=(\n",
    "                    num_centroids,\n",
    "                    pareto_front_max_length,\n",
    "                )\n",
    "                + x.shape[1:]\n",
    "            ),\n",
    "            init_genotypes,\n",
    "        )\n",
    "\n"
   ]
  },
  {
   "cell_type": "code",
   "execution_count": null,
   "metadata": {},
   "outputs": [],
   "source": [
    "global_unravel_fn = None\n",
    "\n",
    "def flatten(genotype):\n",
    "    global global_unravel_fn\n",
    "    flatten_genotype, unravel_fn = ravel_pytree(genotype)\n",
    "    if global_unravel_fn is None:\n",
    "        global_unravel_fn = unravel_fn  # Initialize once\n",
    "    return flatten_genotype\n",
    "flat_genotypes = jax.vmap(flatten)(default_genotypes)"
   ]
  },
  {
   "cell_type": "code",
   "execution_count": null,
   "metadata": {},
   "outputs": [],
   "source": [
    "repertoire = MOMERepertoire.load(reconstruction_fn=global_unravel_fn, path=repertoire_path)"
   ]
  },
  {
   "cell_type": "code",
   "execution_count": null,
   "metadata": {},
   "outputs": [],
   "source": [
    "best_idx = jnp.argmax(repertoire.fitnesses)\n",
    "best_fitness = jnp.max(repertoire.fitnesses)\n",
    "best_bd = repertoire.descriptors[best_idx]"
   ]
  },
  {
   "cell_type": "code",
   "execution_count": null,
   "metadata": {},
   "outputs": [],
   "source": [
    "print(\n",
    "    f\"Best fitness in the repertoire: {best_fitness:.2f}\\n\",\n",
    "    f\"Behavior descriptor of the best individual in the repertoire: {best_bd}\\n\",\n",
    "    f\"Index in the repertoire of this individual: {best_idx}\\n\"\n",
    ")"
   ]
  },
  {
   "cell_type": "code",
   "execution_count": null,
   "metadata": {},
   "outputs": [],
   "source": [
    "sampled_genotypes, _ = repertoire.sample(random_key, num_save_visualisations)"
   ]
  },
  {
   "cell_type": "code",
   "execution_count": null,
   "metadata": {},
   "outputs": [],
   "source": [
    "for sample in range(num_save_visualisations):\n",
    "        params = jax.tree_util.tree_map(\n",
    "            lambda x: x[sample],\n",
    "            sampled_genotypes\n",
    "        )\n",
    "\n",
    "        visualise_individual(\n",
    "            env,\n",
    "            policy_network,\n",
    "            params,\n",
    "            f\"sample_{sample}.html\",\n",
    "            save_dir\n",
    "        )"
   ]
  },
  {
   "cell_type": "code",
   "execution_count": null,
   "metadata": {},
   "outputs": [],
   "source": [
    "def visualise_individual(\n",
    "    env,\n",
    "    policy_network,\n",
    "    params,\n",
    "    name,\n",
    "    save_dir,\n",
    "):\n",
    "    \"\"\" Roll out individual policy and save visualisation\"\"\"\n",
    "    path = os.path.join(save_dir, name)\n",
    "\n",
    "    jit_env_reset = jax.jit(env.reset)\n",
    "    jit_env_step = jax.jit(env.step)\n",
    "    jit_inference_fn = jax.jit(policy_network.apply)\n",
    "\n",
    "    rollout = []\n",
    "    rng = jax.random.PRNGKey(seed=1)\n",
    "    state = jit_env_reset(rng=rng)\n",
    "\n",
    "    while not state.done:\n",
    "        rollout.append(state)\n",
    "        action = jit_inference_fn(params, state.obs)\n",
    "        state = jit_env_step(state, action)\n",
    "\n",
    "    with File(path, 'w') as fout:\n",
    "        fout.write(html.render(env.sys, [s.qp for s in rollout], height=480))\n"
   ]
  }
 ],
 "metadata": {
  "kernelspec": {
   "display_name": "env",
   "language": "python",
   "name": "python3"
  },
  "language_info": {
   "codemirror_mode": {
    "name": "ipython",
    "version": 3
   },
   "file_extension": ".py",
   "mimetype": "text/x-python",
   "name": "python",
   "nbconvert_exporter": "python",
   "pygments_lexer": "ipython3",
   "version": "3.8.10"
  }
 },
 "nbformat": 4,
 "nbformat_minor": 2
}
